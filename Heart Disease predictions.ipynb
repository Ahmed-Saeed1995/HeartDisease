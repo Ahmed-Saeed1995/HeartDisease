{
 "cells": [
  {
   "cell_type": "markdown",
   "metadata": {},
   "source": [
    "# <span style=\"color:red\">❤️ Heart Disease Prediction</span>"
   ]
  },
  {
   "cell_type": "code",
   "execution_count": 6,
   "metadata": {},
   "outputs": [],
   "source": [
    "import pandas as pd\n",
    "import numpy as np\n",
    "import matplotlib.pyplot as plt\n",
    "import seaborn as sns\n",
    "from ConvertColumns import Processing, SingleColumn\n",
    "\n",
    "%matplotlib inline\n",
    "sns.set(rc={\"figure.figsize\":[4, 4]})"
   ]
  },
  {
   "cell_type": "code",
   "execution_count": 4,
   "metadata": {},
   "outputs": [
    {
     "data": {
      "text/plain": [
       "(319795, 18)"
      ]
     },
     "execution_count": 4,
     "metadata": {},
     "output_type": "execute_result"
    }
   ],
   "source": [
    "df = pd.read_csv('heart_2020_cleaned.csv')\n",
    "df.shape"
   ]
  },
  {
   "cell_type": "code",
   "execution_count": 4,
   "metadata": {},
   "outputs": [
    {
     "data": {
      "text/html": [
       "<div>\n",
       "<style scoped>\n",
       "    .dataframe tbody tr th:only-of-type {\n",
       "        vertical-align: middle;\n",
       "    }\n",
       "\n",
       "    .dataframe tbody tr th {\n",
       "        vertical-align: top;\n",
       "    }\n",
       "\n",
       "    .dataframe thead th {\n",
       "        text-align: right;\n",
       "    }\n",
       "</style>\n",
       "<table border=\"1\" class=\"dataframe\">\n",
       "  <thead>\n",
       "    <tr style=\"text-align: right;\">\n",
       "      <th></th>\n",
       "      <th>HeartDisease</th>\n",
       "      <th>BMI</th>\n",
       "      <th>Smoking</th>\n",
       "      <th>AlcoholDrinking</th>\n",
       "      <th>Stroke</th>\n",
       "      <th>PhysicalHealth</th>\n",
       "      <th>MentalHealth</th>\n",
       "      <th>DiffWalking</th>\n",
       "      <th>Sex</th>\n",
       "      <th>AgeCategory</th>\n",
       "      <th>Race</th>\n",
       "      <th>Diabetic</th>\n",
       "      <th>PhysicalActivity</th>\n",
       "      <th>GenHealth</th>\n",
       "      <th>SleepTime</th>\n",
       "      <th>Asthma</th>\n",
       "      <th>KidneyDisease</th>\n",
       "      <th>SkinCancer</th>\n",
       "    </tr>\n",
       "  </thead>\n",
       "  <tbody>\n",
       "    <tr>\n",
       "      <th>0</th>\n",
       "      <td>No</td>\n",
       "      <td>16.60</td>\n",
       "      <td>Yes</td>\n",
       "      <td>No</td>\n",
       "      <td>No</td>\n",
       "      <td>3.0</td>\n",
       "      <td>30.0</td>\n",
       "      <td>No</td>\n",
       "      <td>Female</td>\n",
       "      <td>55-59</td>\n",
       "      <td>White</td>\n",
       "      <td>Yes</td>\n",
       "      <td>Yes</td>\n",
       "      <td>Very good</td>\n",
       "      <td>5.0</td>\n",
       "      <td>Yes</td>\n",
       "      <td>No</td>\n",
       "      <td>Yes</td>\n",
       "    </tr>\n",
       "    <tr>\n",
       "      <th>1</th>\n",
       "      <td>No</td>\n",
       "      <td>20.34</td>\n",
       "      <td>No</td>\n",
       "      <td>No</td>\n",
       "      <td>Yes</td>\n",
       "      <td>0.0</td>\n",
       "      <td>0.0</td>\n",
       "      <td>No</td>\n",
       "      <td>Female</td>\n",
       "      <td>80 or older</td>\n",
       "      <td>White</td>\n",
       "      <td>No</td>\n",
       "      <td>Yes</td>\n",
       "      <td>Very good</td>\n",
       "      <td>7.0</td>\n",
       "      <td>No</td>\n",
       "      <td>No</td>\n",
       "      <td>No</td>\n",
       "    </tr>\n",
       "    <tr>\n",
       "      <th>2</th>\n",
       "      <td>No</td>\n",
       "      <td>26.58</td>\n",
       "      <td>Yes</td>\n",
       "      <td>No</td>\n",
       "      <td>No</td>\n",
       "      <td>20.0</td>\n",
       "      <td>30.0</td>\n",
       "      <td>No</td>\n",
       "      <td>Male</td>\n",
       "      <td>65-69</td>\n",
       "      <td>White</td>\n",
       "      <td>Yes</td>\n",
       "      <td>Yes</td>\n",
       "      <td>Fair</td>\n",
       "      <td>8.0</td>\n",
       "      <td>Yes</td>\n",
       "      <td>No</td>\n",
       "      <td>No</td>\n",
       "    </tr>\n",
       "  </tbody>\n",
       "</table>\n",
       "</div>"
      ],
      "text/plain": [
       "  HeartDisease    BMI Smoking AlcoholDrinking Stroke  PhysicalHealth  \\\n",
       "0           No  16.60     Yes              No     No             3.0   \n",
       "1           No  20.34      No              No    Yes             0.0   \n",
       "2           No  26.58     Yes              No     No            20.0   \n",
       "\n",
       "   MentalHealth DiffWalking     Sex  AgeCategory   Race Diabetic  \\\n",
       "0          30.0          No  Female        55-59  White      Yes   \n",
       "1           0.0          No  Female  80 or older  White       No   \n",
       "2          30.0          No    Male        65-69  White      Yes   \n",
       "\n",
       "  PhysicalActivity  GenHealth  SleepTime Asthma KidneyDisease SkinCancer  \n",
       "0              Yes  Very good        5.0    Yes            No        Yes  \n",
       "1              Yes  Very good        7.0     No            No         No  \n",
       "2              Yes       Fair        8.0    Yes            No         No  "
      ]
     },
     "execution_count": 4,
     "metadata": {},
     "output_type": "execute_result"
    }
   ],
   "source": [
    "df.head(3)"
   ]
  },
  {
   "cell_type": "code",
   "execution_count": 7,
   "metadata": {},
   "outputs": [
    {
     "name": "stdout",
     "output_type": "stream",
     "text": [
      "<class 'pandas.core.frame.DataFrame'>\n",
      "RangeIndex: 319795 entries, 0 to 319794\n",
      "Data columns (total 18 columns):\n",
      " #   Column            Non-Null Count   Dtype  \n",
      "---  ------            --------------   -----  \n",
      " 0   HeartDisease      319795 non-null  object \n",
      " 1   BMI               319795 non-null  float64\n",
      " 2   Smoking           319795 non-null  object \n",
      " 3   AlcoholDrinking   319795 non-null  object \n",
      " 4   Stroke            319795 non-null  object \n",
      " 5   PhysicalHealth    319795 non-null  float64\n",
      " 6   MentalHealth      319795 non-null  float64\n",
      " 7   DiffWalking       319795 non-null  object \n",
      " 8   Sex               319795 non-null  object \n",
      " 9   AgeCategory       319795 non-null  object \n",
      " 10  Race              319795 non-null  object \n",
      " 11  Diabetic          319795 non-null  object \n",
      " 12  PhysicalActivity  319795 non-null  object \n",
      " 13  GenHealth         319795 non-null  object \n",
      " 14  SleepTime         319795 non-null  float64\n",
      " 15  Asthma            319795 non-null  object \n",
      " 16  KidneyDisease     319795 non-null  object \n",
      " 17  SkinCancer        319795 non-null  object \n",
      "dtypes: float64(4), object(14)\n",
      "memory usage: 43.9+ MB\n"
     ]
    }
   ],
   "source": [
    "df.info()"
   ]
  },
  {
   "cell_type": "markdown",
   "metadata": {},
   "source": [
    "### Convert to numerical Yes:1 ; No:0"
   ]
  },
  {
   "cell_type": "code",
   "execution_count": 5,
   "metadata": {},
   "outputs": [],
   "source": [
    "# convert datatype into numeric\n",
    "df[\"HeartDisease\"] = df[\"HeartDisease\"].apply(Processing.to_numeric)\n",
    "\n",
    "df[\"Smoking\"] = df[\"Smoking\"].apply(Processing.to_numeric)\n",
    "df[\"Stroke\"] = df[\"Stroke\"].apply(Processing.to_numeric)\n",
    "df[\"AlcoholDrinking\"] = df[\"AlcoholDrinking\"].apply(Processing.to_numeric)\n",
    "df[\"DiffWalking\"] = df[\"DiffWalking\"].apply(Processing.to_numeric)\n",
    "df[\"Diabetic\"] = df[\"Diabetic\"].apply(Processing.DiabeticNumeric) # special convertable\n",
    "df[\"Asthma\"] = df[\"Asthma\"].apply(Processing.to_numeric)\n",
    "df[\"KidneyDisease\"] = df[\"KidneyDisease\"].apply(Processing.to_numeric)\n",
    "df[\"SkinCancer\"] = df[\"SkinCancer\"].apply(Processing.to_numeric)\n",
    "df[\"PhysicalActivity\"] = df[\"PhysicalActivity\"].apply(Processing.to_numeric)\n",
    "df[\"AgeCategory\"] = df[\"AgeCategory\"].apply(Processing.AgeCategorized) "
   ]
  },
  {
   "cell_type": "markdown",
   "metadata": {},
   "source": [
    "### Convert categorical columns -> dummy variales"
   ]
  },
  {
   "cell_type": "code",
   "execution_count": 9,
   "metadata": {},
   "outputs": [],
   "source": [
    "# convert Sex cat into dummy variable\n",
    "df[\"Sex\"] = pd.get_dummies(df[\"Sex\"], drop_first=True)\n",
    "df[[\"Fair\",\"Good\",\"Poor\",\"Very good\"]] = pd.get_dummies(df[\"GenHealth\"], drop_first= True)\n",
    "df[[\"Asian\",\"Black\",\"Hispanic\",\"Other\",\"White\"]] = pd.get_dummies(df[\"Race\"], drop_first=True)"
   ]
  },
  {
   "cell_type": "markdown",
   "metadata": {},
   "source": [
    "**After conversions**"
   ]
  },
  {
   "cell_type": "code",
   "execution_count": 6,
   "metadata": {},
   "outputs": [
    {
     "name": "stdout",
     "output_type": "stream",
     "text": [
      "<class 'pandas.core.frame.DataFrame'>\n",
      "RangeIndex: 319795 entries, 0 to 319794\n",
      "Data columns (total 22 columns):\n",
      " #   Column            Non-Null Count   Dtype  \n",
      "---  ------            --------------   -----  \n",
      " 0   HeartDisease      319795 non-null  int64  \n",
      " 1   BMI               319795 non-null  float64\n",
      " 2   Smoking           319795 non-null  int64  \n",
      " 3   AlcoholDrinking   319795 non-null  int64  \n",
      " 4   Stroke            319795 non-null  int64  \n",
      " 5   PhysicalHealth    319795 non-null  float64\n",
      " 6   MentalHealth      319795 non-null  float64\n",
      " 7   DiffWalking       319795 non-null  int64  \n",
      " 8   Sex               319795 non-null  uint8  \n",
      " 9   AgeCategory       319795 non-null  int64  \n",
      " 10  Race              319795 non-null  object \n",
      " 11  Diabetic          319795 non-null  int64  \n",
      " 12  PhysicalActivity  319795 non-null  int64  \n",
      " 13  GenHealth         319795 non-null  object \n",
      " 14  SleepTime         319795 non-null  float64\n",
      " 15  Asthma            319795 non-null  int64  \n",
      " 16  KidneyDisease     319795 non-null  int64  \n",
      " 17  SkinCancer        319795 non-null  int64  \n",
      " 18  Fair              319795 non-null  uint8  \n",
      " 19  Good              319795 non-null  uint8  \n",
      " 20  Poor              319795 non-null  uint8  \n",
      " 21  Very good         319795 non-null  uint8  \n",
      "dtypes: float64(4), int64(11), object(2), uint8(5)\n",
      "memory usage: 43.0+ MB\n"
     ]
    }
   ],
   "source": [
    "df.info()"
   ]
  },
  {
   "cell_type": "code",
   "execution_count": 11,
   "metadata": {},
   "outputs": [
    {
     "data": {
      "text/plain": [
       "65-69          10.679029\n",
       "60-64          10.533623\n",
       "70-74           9.714036\n",
       "55-59           9.305024\n",
       "50-54           7.936960\n",
       "80 or older     7.552651\n",
       "45-49           6.814053\n",
       "75-79           6.717428\n",
       "18-24           6.586720\n",
       "40-44           6.568583\n",
       "35-39           6.425992\n",
       "30-34           5.864069\n",
       "25-29           5.301834\n",
       "Name: AgeCategory, dtype: float64"
      ]
     },
     "execution_count": 11,
     "metadata": {},
     "output_type": "execute_result"
    }
   ],
   "source": [
    "df[\"AgeCategory\"].value_counts() / len(df) * 100"
   ]
  },
  {
   "cell_type": "code",
   "execution_count": 13,
   "metadata": {},
   "outputs": [
    {
     "data": {
      "text/plain": [
       "10    10.679029\n",
       "9     10.533623\n",
       "11     9.714036\n",
       "8      9.305024\n",
       "7      7.936960\n",
       "13     7.552651\n",
       "6      6.814053\n",
       "12     6.717428\n",
       "1      6.586720\n",
       "5      6.568583\n",
       "4      6.425992\n",
       "3      5.864069\n",
       "2      5.301834\n",
       "Name: AgeCategory, dtype: float64"
      ]
     },
     "execution_count": 13,
     "metadata": {},
     "output_type": "execute_result"
    }
   ],
   "source": [
    "df[\"AgeCategory\"].value_counts() / len(df) * 100"
   ]
  },
  {
   "cell_type": "markdown",
   "metadata": {},
   "source": [
    "**Delete Uncessary columns**"
   ]
  },
  {
   "cell_type": "code",
   "execution_count": 11,
   "metadata": {},
   "outputs": [],
   "source": [
    "df.drop([\"GenHealth\", \"Race\"], axis=1, inplace=True)"
   ]
  },
  {
   "cell_type": "markdown",
   "metadata": {},
   "source": [
    "# Balancing Class: raise minority class"
   ]
  },
  {
   "cell_type": "code",
   "execution_count": 12,
   "metadata": {},
   "outputs": [
    {
     "data": {
      "image/png": "[encoded data removed]",
      "text/plain": [
       "<Figure size 288x288 with 1 Axes>"
      ]
     },
     "metadata": {},
     "output_type": "display_data"
    }
   ],
   "source": [
    "sns.countplot(df[\"HeartDisease\"])\n",
    "plt.show()"
   ]
  },
  {
   "cell_type": "code",
   "execution_count": 24,
   "metadata": {},
   "outputs": [
    {
     "data": {
      "text/plain": [
       "0    91.440454\n",
       "1     8.559546\n",
       "Name: HeartDisease, dtype: float64"
      ]
     },
     "execution_count": 24,
     "metadata": {},
     "output_type": "execute_result"
    }
   ],
   "source": [
    "# majorit class of No HeartDisease 91%\n",
    "df[\"HeartDisease\"].value_counts() / len(df) * 100"
   ]
  },
  {
   "cell_type": "code",
   "execution_count": 16,
   "metadata": {},
   "outputs": [],
   "source": [
    "# Sperate the label\n",
    "X = df.drop(\"HeartDisease\", axis=1)\n",
    "y = df[\"HeartDisease\"]"
   ]
  },
  {
   "cell_type": "code",
   "execution_count": 17,
   "metadata": {},
   "outputs": [],
   "source": [
    "from imblearn.over_sampling import RandomOverSampler, SMOTE"
   ]
  },
  {
   "cell_type": "markdown",
   "metadata": {},
   "source": [
    "**Oversample using<span style=\"color:blue\"> SMOTE </span>method** "
   ]
  },
  {
   "cell_type": "code",
   "execution_count": 18,
   "metadata": {},
   "outputs": [],
   "source": [
    "smote = SMOTE(k_neighbors = 3)\n",
    "X_smoted, y_smoted = smote.fit_resample(X, y)"
   ]
  },
  {
   "cell_type": "code",
   "execution_count": 10,
   "metadata": {},
   "outputs": [
    {
     "data": {
      "text/plain": [
       "0    0.5\n",
       "1    0.5\n",
       "Name: HeartDisease, dtype: float64"
      ]
     },
     "execution_count": 10,
     "metadata": {},
     "output_type": "execute_result"
    }
   ],
   "source": [
    "y_smoted.value_counts() / len(y_smoted)"
   ]
  },
  {
   "cell_type": "markdown",
   "metadata": {},
   "source": [
    "**Another techinque<span style=\"color:blue\"> RandomOverSampler</span> method**\n",
    "\n",
    "__Balance Class using OverSample strategey__"
   ]
  },
  {
   "cell_type": "code",
   "execution_count": null,
   "metadata": {},
   "outputs": [],
   "source": [
    "ROS = RandomOverSampler(random_state=42)\n",
    "X_sampled, y_sampled = ROS.fit_resample(X, y)"
   ]
  },
  {
   "cell_type": "code",
   "execution_count": null,
   "metadata": {},
   "outputs": [],
   "source": [
    "y_sampled.value_counts() / len(y_sampled)"
   ]
  },
  {
   "cell_type": "markdown",
   "metadata": {},
   "source": [
    "# <span style=\"color:orange\"> Machine Learning </span>"
   ]
  },
  {
   "cell_type": "code",
   "execution_count": 19,
   "metadata": {},
   "outputs": [],
   "source": [
    "from sklearn.model_selection import train_test_split\n",
    "\n",
    "X_train, X_test, y_train, y_test = train_test_split(X_smoted, y_smoted, random_state=42, test_size=1/65)"
   ]
  },
  {
   "cell_type": "code",
   "execution_count": 28,
   "metadata": {},
   "outputs": [
    {
     "data": {
      "text/plain": [
       "0    0.5\n",
       "1    0.5\n",
       "Name: HeartDisease, dtype: float64"
      ]
     },
     "execution_count": 28,
     "metadata": {},
     "output_type": "execute_result"
    }
   ],
   "source": [
    "y_smoted.value_counts() / len(y_smoted)"
   ]
  },
  {
   "cell_type": "code",
   "execution_count": 29,
   "metadata": {},
   "outputs": [
    {
     "name": "stdout",
     "output_type": "stream",
     "text": [
      "Testing size: 0.015384615384615385%\n",
      "\n",
      "Training X:  (575846, 46)\n",
      "Testing X:  (8998, 46)\n",
      "Training y:  (575846,)\n",
      "Testing y:  (8998,)\n"
     ]
    }
   ],
   "source": [
    "print(f\"Testing size: {1/65}%\\n\")\n",
    "print(\"Training X: \", X_train.shape)\n",
    "print(\"Testing X: \", X_test.shape)\n",
    "print(\"Training y: \", y_train.shape)\n",
    "print(\"Testing y: \", y_test.shape)"
   ]
  },
  {
   "cell_type": "code",
   "execution_count": 21,
   "metadata": {},
   "outputs": [
    {
     "data": {
      "text/plain": [
       "True"
      ]
     },
     "execution_count": 21,
     "metadata": {},
     "output_type": "execute_result"
    }
   ],
   "source": [
    "from sklearn.preprocessing import StandardScaler\n",
    "\n",
    "scaler = StandardScaler()\n",
    "X_scaled = scaler.fit_transform(X_train)\n",
    "final_X = pd.DataFrame(X_scaled, columns =  X.columns)\n",
    "\n",
    "final_X.shape == X_train.shape"
   ]
  },
  {
   "cell_type": "code",
   "execution_count": 22,
   "metadata": {},
   "outputs": [],
   "source": [
    "from sklearn.ensemble import RandomForestClassifier\n",
    "from sklearn.metrics import precision_score, recall_score, f1_score, confusion_matrix"
   ]
  },
  {
   "cell_type": "code",
   "execution_count": 23,
   "metadata": {},
   "outputs": [
    {
     "data": {
      "text/plain": [
       "RandomForestClassifier(random_state=42)"
      ]
     },
     "execution_count": 23,
     "metadata": {},
     "output_type": "execute_result"
    }
   ],
   "source": [
    "RF = RandomForestClassifier(random_state = 42)\n",
    "RF.fit(final_X, y_train)"
   ]
  },
  {
   "cell_type": "code",
   "execution_count": 25,
   "metadata": {
    "scrolled": true
   },
   "outputs": [],
   "source": [
    "X_test_scaled = pd.DataFrame(scaler.transform(X_test), columns = X.columns)"
   ]
  },
  {
   "cell_type": "code",
   "execution_count": 26,
   "metadata": {},
   "outputs": [
    {
     "name": "stdout",
     "output_type": "stream",
     "text": [
      "Model Name: 'RandomForestClassifier' \n",
      "Model Accuracy Training Score: 0.9974802290890272\n",
      "Model Accuracy Testing Score: 0.9257612802845077\n"
     ]
    }
   ],
   "source": [
    "print(\"Model Name: 'RandomForestClassifier' \")\n",
    "print(f\"Model Accuracy Training Score: {RF.score(final_X, y_train)}\")\n",
    "print(f\"Model Accuracy Testing Score: {RF.score(X_test_scaled, y_test)}\")"
   ]
  },
  {
   "cell_type": "code",
   "execution_count": 28,
   "metadata": {
    "scrolled": true
   },
   "outputs": [
    {
     "data": {
      "text/plain": [
       "<matplotlib.axes._subplots.AxesSubplot at 0x28001b57448>"
      ]
     },
     "execution_count": 28,
     "metadata": {},
     "output_type": "execute_result"
    },
    {
     "data": {
      "image/png": "[encoded data removed]",
      "text/plain": [
       "<Figure size 288x288 with 2 Axes>"
      ]
     },
     "metadata": {},
     "output_type": "display_data"
    }
   ],
   "source": [
    "# predict y_test\n",
    "predictions = RF.predict(X_test_scaled)\n",
    "\n",
    "CM = confusion_matrix(y_test, predictions)\n",
    "sns.heatmap(CM, annot=True, cmap = plt.cm.binary, fmt=\"0.2f\")"
   ]
  },
  {
   "cell_type": "code",
   "execution_count": 29,
   "metadata": {},
   "outputs": [
    {
     "name": "stdout",
     "output_type": "stream",
     "text": [
      "Precision Score: 0.9234313295304958 \n",
      "Recall Score: 0.9295494699646644\n",
      "F1 Score: 0.9264802993616553\n"
     ]
    }
   ],
   "source": [
    "print(f\"Precision Score: {precision_score(y_test, predictions)} \")\n",
    "print(f\"Recall Score: {recall_score(y_test, predictions)}\")\n",
    "print(f\"F1 Score: {f1_score(y_test, predictions)}\")"
   ]
  },
  {
   "cell_type": "markdown",
   "metadata": {},
   "source": [
    "## Save models and make Pipeline"
   ]
  },
  {
   "cell_type": "code",
   "execution_count": 1,
   "metadata": {},
   "outputs": [],
   "source": [
    "from joblib import load, dump # saving the model"
   ]
  },
  {
   "cell_type": "markdown",
   "metadata": {},
   "source": [
    "### Deployment The Model"
   ]
  },
  {
   "cell_type": "code",
   "execution_count": 99,
   "metadata": {},
   "outputs": [
    {
     "data": {
      "text/plain": [
       "['StandardScaler - HeartDisease.h5']"
      ]
     },
     "execution_count": 99,
     "metadata": {},
     "output_type": "execute_result"
    }
   ],
   "source": [
    "dump(RF, \"RandomForestClassifier - HeartDisease.h5\") # save the model\n",
    "dump(scaler, \"StandardScaler - HeartDisease.h5\") # save the standard scaler"
   ]
  },
  {
   "cell_type": "markdown",
   "metadata": {},
   "source": [
    "__Load Model__"
   ]
  },
  {
   "cell_type": "code",
   "execution_count": 2,
   "metadata": {},
   "outputs": [],
   "source": [
    "RFC = load(\"RandomForestClassifier - HeartDisease.h5\")\n",
    "SC = load(\"StandardScaler - HeartDisease.h5\")"
   ]
  },
  {
   "cell_type": "code",
   "execution_count": null,
   "metadata": {},
   "outputs": [],
   "source": [
    "X_scaled = pd.DataFrame(SC.transform(X_test), columns = X.columns)"
   ]
  },
  {
   "cell_type": "code",
   "execution_count": null,
   "metadata": {},
   "outputs": [],
   "source": [
    "predictions = RFC.predict(X_scaled)\n",
    "print(f\"Precision Score: {precision_score(y_test, predictions)} \")\n",
    "print(f\"Recall Score: {recall_score(y_test, predictions)}\")\n",
    "print(f\"F1 Score: {f1_score(y_test, predictions)}\")\n",
    "\n",
    "print(\"Model Name: 'RandomForestClassifier' \")\n",
    "print(f\"Model Accuracy Testing Score: {RFC.score(X_scaled, y_test)}\")"
   ]
  },
  {
   "cell_type": "markdown",
   "metadata": {},
   "source": [
    "# <span style = \"color:dark gray\" >TEST THE MODEL ON PRODUCTION APPLICATION</span>"
   ]
  },
  {
   "cell_type": "code",
   "execution_count": 80,
   "metadata": {},
   "outputs": [
    {
     "name": "stdout",
     "output_type": "stream",
     "text": [
      "________Define your health 'Fair','Good', 'Poor', 'Very good' ________\n",
      "Describe your health on pos 0: Health \ta\n",
      "______________________________Your race_______________________________\n",
      "Describe your health on pos 1: Race \tWhite\n"
     ]
    }
   ],
   "source": [
    "columns = ['BMI', 'Smoking', 'AlcoholDrinking', 'Stroke', 'PhysicalHealth',\n",
    "       'MentalHealth', 'DiffWalking', 'Sex', 'AgeCategory', 'Diabetic',\n",
    "       'PhysicalActivity', 'SleepTime', 'Asthma', 'KidneyDisease',\n",
    "       'SkinCancer', 'Asian', 'Black', 'Hispanic', 'Other', 'White', 'Fair',\n",
    "       'Good', 'Poor', 'Very good']\n",
    "\n",
    "inserted_data = []\n",
    "\n",
    "for col_name in columns:\n",
    "    if col_name == \"AgeCategory\":\n",
    "        print(\"{:_^50}\".format(\"Age range: 18-24, 25-29, 30-34, 35-39, 40-44, 45-49, 50-54, 55-59, 60-64, 65-69, 70-74, 75-79, 80 \"))\n",
    "    elif col_name in [\"Smoking\", \"AlcoholDrinking\", \"Stroke\", \"DiffWalking\", \"Diabetic\", \"Asthma\", \"KidneyDisease\", \"SkinCancer\",\"PhysicalActivity\"]:\n",
    "        print(\"{:_^50}\".format(\"Yes or No\"))\n",
    "    elif col_name in [\"BMI\", \"PhysicalHealth\", \"MentalHealth\", \"SleepTime\"]:\n",
    "        print(\"{:_^50}\".format(\"Chose range from 0-30\"))\n",
    "    elif col_name == \"Sex\":\n",
    "        print(\"{:_^50}\".format(\"Male or Female\"))\n",
    "    else:\n",
    "        print(\"{:_^70}\".format(\"Choose only one Type 1 means Yes and define all 0`s\"))\n",
    "    inserted = input(f\"Describe your health on pos {len(inserted_data)}: {col_name} \\t\")\n",
    "    \n",
    "    inserted_data.append(inserted)\n",
    "\n",
    "test_data = pd.DataFrame(pd.Series(np.array(inserted_data))).T\n",
    "test_data.columns = columns\n",
    "\n",
    "for col_name in [\"Smoking\",\"AlcoholDrinking\",\"Stroke\",\"DiffWalking\", \"SkinCancer\", \"Diabetic\", \"PhysicalActivity\", \"Asthma\",\"KidneyDisease\"]:\n",
    "    test_data[col_name] = test_data[col_name].apply(lambda x: 1 if x == \"Yes\" else 0)\n",
    "\n",
    "test_data['AgeCategory'] = test_data['AgeCategory'].apply(SingleColumn.AgeCategory)\n",
    "test_data[\"Sex\"] = test_data[\"Sex\"].apply(lambda x: 1 if x == \"Male\" else 0)\n",
    "\n",
    "# predict Heart Health\n",
    "scaled = SC.transform(test_data)\n",
    "\n",
    "patient_descriptions = pd.DataFrame(scaled, columns =  columns)\n",
    "\n",
    "PredictHealth = RFC.predict(patient_descriptions)\n",
    "\n",
    "if PredictHealth[0] == 0:\n",
    "    print(\"\\n You are Healthy you didn`t have HeartDisease\")\n",
    "    \n",
    "elif PredictHealth[0] == 1:\n",
    "    print(\"\\n Sorry you have had HeartDisease you should talk to your doctor immediately\")\n",
    "    "
   ]
  },
  {
   "cell_type": "code",
   "execution_count": 81,
   "metadata": {},
   "outputs": [
    {
     "data": {
      "text/plain": [
       "['a', 'Asian', 'Black', 'Hispanic', 'Other', 'White']"
      ]
     },
     "execution_count": 81,
     "metadata": {},
     "output_type": "execute_result"
    }
   ],
   "source": [
    "inserted_data"
   ]
  },
  {
   "cell_type": "code",
   "execution_count": null,
   "metadata": {},
   "outputs": [],
   "source": []
  }
 ],
 "metadata": {
  "kernelspec": {
   "display_name": "Python 3",
   "language": "python",
   "name": "python3"
  },
  "language_info": {
   "codemirror_mode": {
    "name": "ipython",
    "version": 3
   },
   "file_extension": ".py",
   "mimetype": "text/x-python",
   "name": "python",
   "nbconvert_exporter": "python",
   "pygments_lexer": "ipython3",
   "version": "3.7.6"
  }
 },
 "nbformat": 4,
 "nbformat_minor": 4
}
